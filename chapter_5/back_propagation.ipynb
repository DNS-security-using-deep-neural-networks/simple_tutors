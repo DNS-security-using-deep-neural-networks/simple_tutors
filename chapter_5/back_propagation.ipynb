{
 "cells": [
  {
   "cell_type": "markdown",
   "metadata": {},
   "source": [
    "# ch05/layer_naive.py"
   ]
  },
  {
   "cell_type": "markdown",
   "metadata": {},
   "source": [
    "# ch05/buy_apple.py"
   ]
  },
  {
   "cell_type": "markdown",
   "metadata": {},
   "source": [
    "# ch05/buy_apple_orange.py"
   ]
  },
  {
   "cell_type": "markdown",
   "metadata": {},
   "source": [
    "# ch05/two_layer_net.py"
   ]
  },
  {
   "cell_type": "code",
   "execution_count": 1,
   "metadata": {},
   "outputs": [],
   "source": [
    "import torch\n",
    "import torch.nn as nn\n",
    "import torch.nn.functional as F\n",
    "\n",
    "class TwoLayerNet(nn.Module):\n",
    "    def __init__(self, input_size, hidden_size, output_size, weight_init_std=0.01):\n",
    "        super(TwoLayerNet, self).__init__()\n",
    "        # レイヤの生成\n",
    "        self.affine1 = nn.Linear(input_size, hidden_size)\n",
    "        self.affine2 = nn.Linear(hidden_size, output_size)\n",
    "\n",
    "        # Initialize weights and biases\n",
    "        nn.init.normal_(self.affine1.weight, mean=0.0, std=weight_init_std)\n",
    "        nn.init.constant_(self.affine1.bias, 0.0)\n",
    "        nn.init.normal_(self.affine2.weight, mean=0.0, std=weight_init_std)\n",
    "        nn.init.constant_(self.affine2.bias, 0.0)\n",
    "\n",
    "    def forward(self, x):\n",
    "        x = self.affine1(x)\n",
    "        x = F.relu(x)\n",
    "        x = self.affine2(x)\n",
    "        return x\n",
    "\n",
    "    def predict(self, x):\n",
    "        with torch.no_grad():\n",
    "            logits = self.forward(x)\n",
    "            probs = F.softmax(logits, dim=1)\n",
    "        return probs\n",
    "    \n",
    "    # x:入力データ, t:教師データ\n",
    "    def loss(self, x, t):\n",
    "        logits = self.forward(x)\n",
    "        return F.cross_entropy(logits, t)\n",
    "\n",
    "    def accuracy(self, x, t):\n",
    "        with torch.no_grad():\n",
    "            logits = self.forward(x)\n",
    "            preds = torch.argmax(logits, dim=1)\n",
    "            if len(t.shape) != 1:\n",
    "                t = torch.argmax(t, dim=1)\n",
    "            accuracy = (preds == t).float().mean().item()\n",
    "        return accuracy\n",
    "\n",
    "    #いらない\n",
    "    # def numerical_gradient(self, x, t):\n",
    "        \n",
    "    def gradient(self, x, t):\n",
    "        loss = self.loss(x, t)\n",
    "        self.zero_grad()  # Clear previous gradients\n",
    "        loss.backward()   # Compute gradients\n",
    "        return { \n",
    "            'W1': self.affine1.weight.grad,\n",
    "            'b1': self.affine1.bias.grad,\n",
    "            'W2': self.affine2.weight.grad,\n",
    "            'b2': self.affine2.bias.grad,\n",
    "        }\n"
   ]
  },
  {
   "cell_type": "markdown",
   "metadata": {},
   "source": [
    "# ch05/gradient_check.py"
   ]
  },
  {
   "cell_type": "markdown",
   "metadata": {},
   "source": [
    "# ch05/train_neuralnet.py"
   ]
  },
  {
   "cell_type": "code",
   "execution_count": 5,
   "metadata": {},
   "outputs": [],
   "source": [
    "import torch\n",
    "from torch.utils.data import DataLoader, TensorDataset\n",
    "from dataset.mnist import load_mnist\n",
    "import numpy as np\n",
    "# Load MNIST dataset\n",
    "(x_train, t_train), (x_test, t_test) = load_mnist(normalize=True, one_hot_label=True)\n"
   ]
  },
  {
   "cell_type": "code",
   "execution_count": 25,
   "metadata": {},
   "outputs": [
    {
     "name": "stdout",
     "output_type": "stream",
     "text": [
      "0.09625 0.0962\n",
      "0.9028 0.907\n",
      "0.9214666666666667 0.9251\n",
      "0.9348666666666666 0.9343\n",
      "0.9441 0.9435\n",
      "0.9501166666666667 0.9484\n",
      "0.9544166666666667 0.953\n",
      "0.9602333333333334 0.957\n",
      "0.9632833333333334 0.9583\n",
      "0.9662 0.9603\n",
      "0.9655333333333334 0.9602\n",
      "0.971 0.9647\n",
      "0.9729166666666667 0.9665\n",
      "0.9740666666666666 0.9668\n",
      "0.9750333333333333 0.966\n",
      "0.9778 0.9695\n",
      "0.9779 0.9696\n"
     ]
    }
   ],
   "source": [
    "# Initialize the network\n",
    "input_size = 784\n",
    "hidden_size = 50\n",
    "output_size = 10\n",
    "learning_rate = 0.1\n",
    "network = TwoLayerNet(input_size=input_size, hidden_size=hidden_size, output_size=output_size)\n",
    "\n",
    "# Optimizer\n",
    "optimizer = torch.optim.SGD(network.parameters(), lr=learning_rate)\n",
    "\n",
    "# Training parameters\n",
    "iters_num = 10000\n",
    "train_size = x_train.shape[0]\n",
    "batch_size = 100\n",
    "\n",
    "train_loss_list = []\n",
    "train_acc_list = []\n",
    "test_acc_list = []\n",
    "\n",
    "iter_per_epoch = max(train_size / batch_size, 1)\n",
    "\n",
    "\n",
    "# Training loop\n",
    "for i in range(iters_num):\n",
    "    batch_mask = np.random.choice(train_size, batch_size)\n",
    "    x_batch = x_train[batch_mask]\n",
    "    t_batch = t_train[batch_mask]\n",
    "\n",
    "    #change from numpy to tensor to work with torch libary \n",
    "    x_batch = torch.from_numpy(x_batch).to(torch.float32)\n",
    "    t_batch = torch.from_numpy(t_batch).to(torch.float32)\n",
    "\n",
    "    loss = network.loss(x_batch, t_batch)\n",
    "\n",
    "    # Backpropagation and parameter update\n",
    "    optimizer.zero_grad()\n",
    "    loss.backward()\n",
    "    optimizer.step()\n",
    "\n",
    "    train_loss_list.append(loss.item())\n",
    "\n",
    "    # Accuracy calculation\n",
    "    if i % iter_per_epoch == 0:\n",
    "        # Training accuracy\n",
    "        train_correct = 0\n",
    "        train_total = 0\n",
    "        #change from numpy to tensor to work with torch libary \n",
    "        x_batch = torch.from_numpy(x_train).to(torch.float32)\n",
    "        t_batch = torch.from_numpy(t_train).to(torch.float32)\n",
    "        x_batch = x_batch.view(x_batch.size(0), -1)\n",
    "        preds = network.predict(x_batch)\n",
    "        train_correct += (torch.argmax(preds, dim=1) == torch.argmax(t_batch,dim=1)).sum().item()\n",
    "        train_total += t_batch.size(0)\n",
    "        train_acc = train_correct / train_total\n",
    "\n",
    "        # Test accuracy\n",
    "        test_correct = 0\n",
    "        test_total = 0\n",
    "        x_batch = torch.from_numpy(x_test).to(torch.float32)\n",
    "        t_batch = torch.from_numpy(t_test).to(torch.float32)\n",
    "        x_batch = x_batch.view(x_batch.size(0), -1)\n",
    "\n",
    "        preds = network.predict(x_batch)\n",
    "        test_correct += (torch.argmax(preds, dim=1) == torch.argmax(t_batch, dim=1)).sum().item()\n",
    "        test_total += t_batch.size(0)\n",
    "        test_acc = test_correct / test_total\n",
    "\n",
    "        train_acc_list.append(train_acc)\n",
    "        test_acc_list.append(test_acc)\n",
    "        print(train_acc, test_acc)\n"
   ]
  },
  {
   "cell_type": "code",
   "execution_count": null,
   "metadata": {},
   "outputs": [],
   "source": []
  }
 ],
 "metadata": {
  "kernelspec": {
   "display_name": ".venv",
   "language": "python",
   "name": "python3"
  },
  "language_info": {
   "codemirror_mode": {
    "name": "ipython",
    "version": 3
   },
   "file_extension": ".py",
   "mimetype": "text/x-python",
   "name": "python",
   "nbconvert_exporter": "python",
   "pygments_lexer": "ipython3",
   "version": "3.9.6"
  }
 },
 "nbformat": 4,
 "nbformat_minor": 2
}

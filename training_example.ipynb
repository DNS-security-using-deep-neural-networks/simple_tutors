{
 "cells": [
  {
   "cell_type": "code",
   "execution_count": 1,
   "metadata": {},
   "outputs": [
    {
     "data": {
      "image/png": "[encoded data removed]",
      "text/plain": [
       "<Figure size 640x480 with 1 Axes>"
      ]
     },
     "metadata": {},
     "output_type": "display_data"
    }
   ],
   "source": [
    "import numpy as np\n",
    "import sys,os\n",
    "import matplotlib.pyplot as plt\n",
    "import struct\n",
    "import pickle\n",
    "from softmax import softmax \n",
    "from gradient import numerical_gradient\n",
    "from cross_entropy_error import cross_entropy_error\n",
    "from sigmoid import sigmoid\n",
    "\n",
    "# いらないです。これは他の機能との繰り返しである。\n",
    "\n",
    "# def load_mnist(path, kind='train'):\n",
    "#     \"\"\"Load MNIST data from `path`.\"\"\"\n",
    "#     labels_path = os.path.join(path,\n",
    "#                             '%s-labels-idx1-ubyte' % kind)\n",
    "#     images_path = os.path.join(path,\n",
    "#                             '%s-images-idx3-ubyte' % kind)\n",
    "\n",
    "#     # gzip.open() を open() に変更\n",
    "#     with open(labels_path, 'rb') as lbpath:\n",
    "#         labels = np.frombuffer(lbpath.read(), dtype=np.uint8,\n",
    "#                                offset=8)\n",
    "\n",
    "#     with open(images_path, 'rb') as imgpath:\n",
    "#         images = np.frombuffer(imgpath.read(), dtype=np.uint8,\n",
    "#                                offset=16).reshape(len(labels), 784)\n",
    "\n",
    "#     return images, labels\n",
    "\n",
    "# def save_to_pickle(data, filename):\n",
    "#     \"\"\"Save data to a pickle file.\"\"\"\n",
    "#     with open(filename, 'wb') as f:\n",
    "#         pickle.dump(data, f)\n",
    "\n",
    "# # データの読み込み\n",
    "# X_train, y_train = load_mnist('./dataset', kind='train')\n",
    "# X_test, y_test = load_mnist('./dataset', kind='t10k')\n",
    "\n",
    "# # pickleファイルに保存\n",
    "# save_to_pickle((X_train, y_train), 'mnist_train.pkl')\n",
    "# save_to_pickle((X_test, y_test), 'mnist_test.pkl')"
   ]
  },
  {
   "cell_type": "code",
   "execution_count": 2,
   "metadata": {},
   "outputs": [],
   "source": [
    "def load_mnist(path='mini-project/hiroka-s-minipro2024/study_dataset', kind='train', normalize=False,one_hot_label=True):\n",
    "    \"\"\"MNISTデータセットを読み込む関数\n",
    "\n",
    "    Args:\n",
    "        path (str): データセットのファイルが置かれているディレクトリのパス\n",
    "        kind (str, optional): \"train\" or \"t10k\". Defaults to \"train\".\n",
    "\n",
    "    Returns:\n",
    "        tuple: 画像データのNumPy配列, ラベルデータのNumPy配列\n",
    "    \"\"\"\n",
    "\n",
    "    labels_path = os.path.join(path, '%s-labels-idx1-ubyte' % kind)\n",
    "    images_path = os.path.join(path, '%s-images-idx3-ubyte' % kind)\n",
    "\n",
    "    with open(labels_path, 'rb') as lbpath:\n",
    "        magic, n = struct.unpack('>II', lbpath.read(8))\n",
    "        labels = np.fromfile(lbpath, dtype=np.uint8)\n",
    "\n",
    "    with open(images_path, 'rb') as imgpath:\n",
    "        magic, num, rows, cols = struct.unpack(\">IIII\", imgpath.read(16))\n",
    "        images = np.fromfile(imgpath, dtype=np.uint8).reshape(len(labels), rows, cols)\n",
    "\n",
    "    return images, labels"
   ]
  },
  {
   "cell_type": "code",
   "execution_count": 3,
   "metadata": {},
   "outputs": [
    {
     "name": "stdout",
     "output_type": "stream",
     "text": [
      "(60000, 28, 28)\n",
      "(10000,)\n"
     ]
    }
   ],
   "source": [
    "# このファイルのパスをあなたのフォルダー・パスに変更してください。\n",
    "\n",
    "x_train, t_train = load_mnist(path='./dataset', kind='train')\n",
    "x_test, t_test = load_mnist(path='./dataset', kind='t10k')\n",
    "\n",
    "print(x_train.shape)\n",
    "print(t_test.shape)"
   ]
  },
  {
   "cell_type": "code",
   "execution_count": 4,
   "metadata": {},
   "outputs": [],
   "source": [
    "# # page 76 of the book \n",
    "\n",
    "# def init_network():\n",
    "#     with open(\"sample_weight.pkl\", 'rb') as f:\n",
    "#         network = pickle.load(f)\n",
    "#     return network\n",
    "\n",
    "# def predict(network, x):\n",
    "#     W1, W2, W3 = network['W1'], network['W2'], network['W3']\n",
    "#     b1, b2, b3 = network['b1'], network['b2'], network['b3']\n",
    "#     a1 = np.dot(x, W1) + b1\n",
    "#     z1 = sigmoid(a1)\n",
    "#     a2 = np.dot(z1, W2) + b2\n",
    "#     z2 = sigmoid(a2)\n",
    "#     a3 = np.dot(z2, W3) + b3\n",
    "#     y = softmax(a3)\n",
    "#     return y\n",
    "\n"
   ]
  },
  {
   "cell_type": "code",
   "execution_count": 5,
   "metadata": {},
   "outputs": [],
   "source": [
    "# network = init_network()\n",
    "\n",
    "# x,t= x_test.reshape(-1, 28*28), t_test     # reshape to match the sample_weight.pkl"
   ]
  },
  {
   "cell_type": "code",
   "execution_count": 6,
   "metadata": {},
   "outputs": [],
   "source": [
    "# #page 76-77\n",
    "\n",
    "# accuracy_cnt = 0\n",
    "# for i in range(len(x)):\n",
    "#     y = predict(network, x[i])\n",
    "#     p = np.argmax(y) # 最も確率の高い要素のインデックスを取得\n",
    "#     if p == t[i]:\n",
    "#         accuracy_cnt += 1\n",
    "#     print(\"Accuracy:\" + str(float(accuracy_cnt) / len(x)))"
   ]
  },
  {
   "cell_type": "code",
   "execution_count": 7,
   "metadata": {},
   "outputs": [],
   "source": [
    "# # page 80\n",
    "\n",
    "# x,t= x_test.reshape(-1, 28*28), t_test     # reshape to match the sample_weight.pkl, #x, t = get_data()\n",
    "# network = init_network()\n",
    "# batch_size = 100 # バッチの数\n",
    "# accuracy_cnt = 0\n",
    "# for i in range(0, len(x), batch_size):\n",
    "#     x_batch = x[i:i+batch_size]\n",
    "#     y_batch = predict(network, x_batch)\n",
    "#     p = np.argmax(y_batch, axis=1)\n",
    "#     accuracy_cnt += np.sum(p == t[i:i+batch_size])\n",
    "\n",
    "# print(\"Accuracy:\" + str(float(accuracy_cnt) / len(x)))"
   ]
  },
  {
   "cell_type": "code",
   "execution_count": 8,
   "metadata": {},
   "outputs": [
    {
     "name": "stdout",
     "output_type": "stream",
     "text": [
      "(60000, 784) (60000, 10)\n",
      "(60000, 10) (10000, 10)\n"
     ]
    }
   ],
   "source": [
    "# page 92, あなたのload_mnistのコードに合わせて変更しました。\n",
    "\n",
    "#第4章では、one hot encodingが重要である。クロスエントロピー損失関数を使うからだ。\n",
    "\n",
    "\n",
    "def change_one_hot_label(X):\n",
    "    T = np.zeros((X.size, 10))\n",
    "    for idx, row in enumerate(T):\n",
    "        row[X[idx]] = 1\n",
    "\n",
    "    return T\n",
    "import sys, os\n",
    "\n",
    "x_train, t_train = load_mnist(path='./dataset', kind='train')\n",
    "x_test, t_test = load_mnist(path='./dataset', kind='t10k')\n",
    "\n",
    "\n",
    "#reshape to match sample_weights.pkl \n",
    "x_train, x_test = x_train.reshape(-1,28*28), x_test.reshape(-1, 28*28)\n",
    "#one-hot encoding \n",
    "t_train, t_test = change_one_hot_label (t_train), change_one_hot_label(t_test)\n",
    "\n",
    "print(x_train.shape, t_train.shape) # (60000, 784)\n",
    "print(t_train.shape, t_test.shape) # (60000, 10)\n",
    "\n"
   ]
  },
  {
   "cell_type": "code",
   "execution_count": 9,
   "metadata": {},
   "outputs": [],
   "source": [
    "#page 114, changed some codes \n",
    "class TwoLayerNet:\n",
    "    def __init__(self, input_size, hidden_size, output_size,\n",
    "    weight_init_std=0.01):\n",
    "        # 重みの初期化\n",
    "        self.params = {}\n",
    "        self.params['W1'] = weight_init_std * \\\n",
    "        np.random.randn(input_size, hidden_size)\n",
    "        self.params['b1'] = np.zeros(hidden_size)\n",
    "        self.params['W2'] = weight_init_std * \\\n",
    "        np.random.randn(hidden_size, output_size)\n",
    "        self.params['b2'] = np.zeros(output_size)\n",
    "    def predict(self, x):\n",
    "        W1, W2 = self.params['W1'], self.params['W2']\n",
    "        b1, b2 = self.params['b1'], self.params['b2']\n",
    "        a1 = np.dot(x, W1) + b1\n",
    "        z1 = sigmoid(a1)\n",
    "        a2 = np.dot(z1, W2) + b2\n",
    "        y = softmax(a2)\n",
    "        return y\n",
    "    \n",
    "    # x:入力データ, t:教師データ\n",
    "    def loss(self, x, t):\n",
    "        y = self.predict(x)\n",
    "        return cross_entropy_error(y, t)\n",
    "    def accuracy(self, x, t):\n",
    "        y = self.predict(x)\n",
    "        y = np.argmax(y, axis=1)\n",
    "        t = np.argmax(t, axis=1)\n",
    "        accuracy = np.sum(y == t) / float(x.shape[0])\n",
    "        return accuracy\n",
    "    # x:入力データ, t:教師データ\n",
    "    def numerical_gradient(self, x, t):\n",
    "        loss_W = lambda W: self.loss(x, t)\n",
    "        grads = {}\n",
    "        grads['W1'] = numerical_gradient(loss_W, self.params['W1'])\n",
    "        grads['b1'] = numerical_gradient(loss_W, self.params['b1'])\n",
    "        grads['W2'] = numerical_gradient(loss_W, self.params['W2'])\n",
    "        grads['b2'] = numerical_gradient(loss_W, self.params['b2'])\n",
    "        return grads"
   ]
  },
  {
   "cell_type": "code",
   "execution_count": 10,
   "metadata": {},
   "outputs": [],
   "source": [
    "# # page 118, changed some codes \n",
    "# #また、より長くネットワークを訓練するために、iter_num変数をより大きな数値に変更する。\n",
    "# train_loss_list = []\n",
    "# # ハイパーパラメータ\n",
    "# iters_num = 10      # please increase this \n",
    "# batch_size = 100\n",
    "# learning_rate = 0.1\n",
    "# train_size = x_train.shape[0] # added this one for managing batch training \n",
    "\n",
    "# network = TwoLayerNet(input_size=784, hidden_size=50, output_size=10)\n",
    "\n",
    "# for i in range(iters_num):\n",
    "#     # ミニバッチの取得\n",
    "#     batch_mask = np.random.choice(train_size, batch_size)\n",
    "#     x_batch = x_train[batch_mask]\n",
    "#     t_batch = t_train[batch_mask]\n",
    "#     # 勾配の計算\n",
    "#     grad = network.numerical_gradient(x_batch, t_batch)\n",
    "#     # grad = network.gradient(x_batch, t_batch) # 高速版!\n",
    "#     # パラメータの更新\n",
    "#     for key in ('W1', 'b1', 'W2', 'b2'):\n",
    "#         network.params[key] -= learning_rate * grad[key]\n",
    "#         # 学習経過の記録\n",
    "#     loss = network.loss(x_batch, t_batch)\n",
    "#     train_loss_list.append(loss)\n",
    "#     print(i,\"--------->\", loss)"
   ]
  },
  {
   "cell_type": "code",
   "execution_count": 11,
   "metadata": {},
   "outputs": [],
   "source": [
    "# #draw the loss graphs at page 119\n",
    "# import matplotlib.pyplot as plt \n",
    "\n",
    "# plt.plot(range(len(train_loss_list)), train_loss_list)\n",
    "# plt.ylabel(\"loss\")\n",
    "# plt.xlabel(\"iteration\")\n",
    "# plt.show()"
   ]
  },
  {
   "cell_type": "code",
   "execution_count": null,
   "metadata": {},
   "outputs": [
    {
     "name": "stdout",
     "output_type": "stream",
     "text": [
      "train acc, test acc | 0.24038333333333334, 0.2392\n"
     ]
    }
   ],
   "source": [
    "#page 120 \n",
    "\n",
    "train_loss_list = []\n",
    "train_acc_list = []\n",
    "test_acc_list = []\n",
    "# 1 エポックあたりの繰り返し数\n",
    "train_size = x_train.shape[0] # added this one for managing batch training \n",
    "batch_size = 100\n",
    "\n",
    "iter_per_epoch = max(train_size / batch_size, 1)\n",
    "# ハイパーパラメータ\n",
    "iters_num = 1000 \n",
    "batch_size = 100\n",
    "learning_rate = 0.1\n",
    "network = TwoLayerNet(input_size=784, hidden_size=50, output_size=10)\n",
    "for i in range(iters_num):\n",
    "    # ミニバッチの取得\n",
    "    batch_mask = np.random.choice(train_size, batch_size)\n",
    "    x_batch = x_train[batch_mask]\n",
    "    t_batch = t_train[batch_mask]\n",
    "    # 勾配の計算\n",
    "    grad = network.numerical_gradient(x_batch, t_batch)\n",
    "    # grad = network.gradient(x_batch, t_batch) # 高速版!\n",
    "    # パラメータの更新\n",
    "    for key in ('W1', 'b1', 'W2', 'b2'):\n",
    "        network.params[key] -= learning_rate * grad[key]\n",
    "    loss = network.loss(x_batch, t_batch)\n",
    "    train_loss_list.append(loss)\n",
    "\n",
    "    # 1 エポックごとに認識精度を計算\n",
    "    if i % iter_per_epoch == 0:\n",
    "        train_acc = network.accuracy(x_train, t_train)\n",
    "        test_acc = network.accuracy(x_test, t_test)\n",
    "        train_acc_list.append(train_acc)\n",
    "        test_acc_list.append(test_acc)\n",
    "        print(\"train acc, test acc | \" + str(train_acc) + \", \" + str(test_acc))\n"
   ]
  },
  {
   "cell_type": "code",
   "execution_count": null,
   "metadata": {},
   "outputs": [],
   "source": []
  }
 ],
 "metadata": {
  "kernelspec": {
   "display_name": "Python 3 (ipykernel)",
   "language": "python",
   "name": "python3"
  },
  "language_info": {
   "codemirror_mode": {
    "name": "ipython",
    "version": 3
   },
   "file_extension": ".py",
   "mimetype": "text/x-python",
   "name": "python",
   "nbconvert_exporter": "python",
   "pygments_lexer": "ipython3",
   "version": "3.9.6"
  }
 },
 "nbformat": 4,
 "nbformat_minor": 2
}
